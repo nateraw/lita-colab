{
  "nbformat": 4,
  "nbformat_minor": 0,
  "metadata": {
    "colab": {
      "provenance": [],
      "machine_shape": "hm",
      "gpuType": "A100",
      "authorship_tag": "ABX9TyPYc0dccD+Cg0IlqB9KD+MQ",
      "include_colab_link": true
    },
    "kernelspec": {
      "name": "python3",
      "display_name": "Python 3"
    },
    "language_info": {
      "name": "python"
    },
    "accelerator": "GPU"
  },
  "cells": [
    {
      "cell_type": "markdown",
      "metadata": {
        "id": "view-in-github",
        "colab_type": "text"
      },
      "source": [
        "<a href=\"https://colab.research.google.com/github/nateraw/lita-colab/blob/main/lita.ipynb\" target=\"_parent\"><img src=\"https://colab.research.google.com/assets/colab-badge.svg\" alt=\"Open In Colab\"/></a>"
      ]
    },
    {
      "cell_type": "markdown",
      "source": [
        "Demo of [LITA](https://github.com/NVlabs/LITA) - all credit to the authors there!\n",
        "\n",
        "If you found this notebook helpful, please consider following me on [github](https://github.com/nateraw) ❤️"
      ],
      "metadata": {
        "id": "9k3itNRlRWl6"
      }
    },
    {
      "cell_type": "code",
      "execution_count": null,
      "metadata": {
        "id": "qGG9yBBHFbbQ"
      },
      "outputs": [],
      "source": [
        "# 👷‍♀️ install\n",
        "%cd /content\n",
        "! git clone https://github.com/NVlabs/LITA.git\n",
        "%cd /content/LITA\n",
        "! pip install -e .\n",
        "\n",
        "# 📂 download\n",
        "# Option 1: Original author google drive link\n",
        "# ! gdown https://drive.google.com/drive/u/0/folders/1-P7p-tq5aXZzSoefEJx4PSFKH8jt8KWy -O /content/LITA/lita-vicuna-v1-3-13b-finetune/ --folder\n",
        "# Option 2: HF mirror, faster\n",
        "! pip install hf-transfer\n",
        "! HF_HUB_ENABLE_HF_TRANSFER=1 huggingface-cli download \\\n",
        "  --local-dir /content/LITA/lita-vicuna-v1-3-13b-finetune/ \\\n",
        "  --local-dir-use-symlinks=False \\\n",
        "  nateraw/lita"
      ]
    },
    {
      "cell_type": "markdown",
      "source": [
        "Click the \"...gradio.live\" link below!"
      ],
      "metadata": {
        "id": "xqIogVXqRNhz"
      }
    },
    {
      "cell_type": "code",
      "source": [
        "# 🚀 Launch\n",
        "! python -m lita.serve.gradio_web_server \\\n",
        "    --model-path ./lita-vicuna-v1-3-13b-finetune/ \\\n",
        "    --share"
      ],
      "metadata": {
        "id": "kwNlEGe2RM3i"
      },
      "execution_count": null,
      "outputs": []
    }
  ]
}